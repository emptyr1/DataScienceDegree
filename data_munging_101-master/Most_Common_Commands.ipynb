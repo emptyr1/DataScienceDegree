{
 "metadata": {
  "name": "",
  "signature": "sha256:8153fb1df56256a770a24aa73d183b4f22105da8b7634f77fd965e0bae0bbbe8"
 },
 "nbformat": 3,
 "nbformat_minor": 0,
 "worksheets": [
  {
   "cells": [
    {
     "cell_type": "markdown",
     "metadata": {},
     "source": [
      "# Most Common Pandas Commands: Quick Tour of Pandas"
     ]
    },
    {
     "cell_type": "code",
     "collapsed": false,
     "input": [],
     "language": "python",
     "metadata": {},
     "outputs": [],
     "prompt_number": 1
    },
    {
     "cell_type": "code",
     "collapsed": false,
     "input": [
      "## Import Pandas, Numpy, and Matplotlib"
     ],
     "language": "python",
     "metadata": {},
     "outputs": []
    },
    {
     "cell_type": "code",
     "collapsed": false,
     "input": [],
     "language": "python",
     "metadata": {},
     "outputs": []
    },
    {
     "cell_type": "code",
     "collapsed": false,
     "input": [
      "## A Tour of Pandas: (3 min)\n",
      "\n",
      "### Import Pandas and other relevant packages. \n",
      "\n",
      "import pandas as pd # the pandas package\n",
      "import numpy as np\n",
      "import matplotlib.pyplot as plt #for graphics\n"
     ],
     "language": "python",
     "metadata": {},
     "outputs": [],
     "prompt_number": 2
    },
    {
     "cell_type": "code",
     "collapsed": false,
     "input": [],
     "language": "python",
     "metadata": {},
     "outputs": []
    },
    {
     "cell_type": "markdown",
     "metadata": {},
     "source": [
      "## The 5 most common Pandas commands to get you Started\n",
      "\n",
      "* read_csv\n",
      "* head\n",
      "* tail\n",
      "* describe\n",
      "* plot"
     ]
    },
    {
     "cell_type": "code",
     "collapsed": false,
     "input": [],
     "language": "python",
     "metadata": {},
     "outputs": []
    },
    {
     "cell_type": "markdown",
     "metadata": {},
     "source": [
      "## Read CSV: Introduction to Pandas IO read_csv"
     ]
    },
    {
     "cell_type": "code",
     "collapsed": false,
     "input": [],
     "language": "python",
     "metadata": {},
     "outputs": []
    },
    {
     "cell_type": "code",
     "collapsed": false,
     "input": [
      "#Uploading the dataset.\n",
      "avg_weather = pd.read_csv('avg_weather.csv')\n",
      "avg_weather"
     ],
     "language": "python",
     "metadata": {},
     "outputs": [
      {
       "html": [
        "<div style=\"max-height:1000px;max-width:1500px;overflow:auto;\">\n",
        "<table border=\"1\" class=\"dataframe\">\n",
        "  <thead>\n",
        "    <tr style=\"text-align: right;\">\n",
        "      <th></th>\n",
        "      <th>Month</th>\n",
        "      <th>Portland</th>\n",
        "      <th>San Francisco</th>\n",
        "    </tr>\n",
        "  </thead>\n",
        "  <tbody>\n",
        "    <tr>\n",
        "      <th>0 </th>\n",
        "      <td>   January</td>\n",
        "      <td> 47</td>\n",
        "      <td> 57</td>\n",
        "    </tr>\n",
        "    <tr>\n",
        "      <th>1 </th>\n",
        "      <td>  February</td>\n",
        "      <td> 51</td>\n",
        "      <td> 60</td>\n",
        "    </tr>\n",
        "    <tr>\n",
        "      <th>2 </th>\n",
        "      <td>     March</td>\n",
        "      <td> 57</td>\n",
        "      <td> 62</td>\n",
        "    </tr>\n",
        "    <tr>\n",
        "      <th>3 </th>\n",
        "      <td>     April</td>\n",
        "      <td> 61</td>\n",
        "      <td> 63</td>\n",
        "    </tr>\n",
        "    <tr>\n",
        "      <th>4 </th>\n",
        "      <td>       May</td>\n",
        "      <td> 68</td>\n",
        "      <td> 64</td>\n",
        "    </tr>\n",
        "    <tr>\n",
        "      <th>5 </th>\n",
        "      <td>      June</td>\n",
        "      <td> 73</td>\n",
        "      <td> 66</td>\n",
        "    </tr>\n",
        "    <tr>\n",
        "      <th>6 </th>\n",
        "      <td>      July</td>\n",
        "      <td> 80</td>\n",
        "      <td> 67</td>\n",
        "    </tr>\n",
        "    <tr>\n",
        "      <th>7 </th>\n",
        "      <td>    August</td>\n",
        "      <td> 81</td>\n",
        "      <td> 68</td>\n",
        "    </tr>\n",
        "    <tr>\n",
        "      <th>8 </th>\n",
        "      <td> September</td>\n",
        "      <td> 75</td>\n",
        "      <td> 70</td>\n",
        "    </tr>\n",
        "    <tr>\n",
        "      <th>9 </th>\n",
        "      <td>   October</td>\n",
        "      <td> 63</td>\n",
        "      <td> 69</td>\n",
        "    </tr>\n",
        "    <tr>\n",
        "      <th>10</th>\n",
        "      <td>  November</td>\n",
        "      <td> 52</td>\n",
        "      <td> 63</td>\n",
        "    </tr>\n",
        "    <tr>\n",
        "      <th>11</th>\n",
        "      <td>  December</td>\n",
        "      <td> 45</td>\n",
        "      <td> 57</td>\n",
        "    </tr>\n",
        "  </tbody>\n",
        "</table>\n",
        "</div>"
       ],
       "metadata": {},
       "output_type": "pyout",
       "prompt_number": 4,
       "text": [
        "        Month  Portland  San Francisco\n",
        "0     January        47             57\n",
        "1    February        51             60\n",
        "2       March        57             62\n",
        "3       April        61             63\n",
        "4         May        68             64\n",
        "5        June        73             66\n",
        "6        July        80             67\n",
        "7      August        81             68\n",
        "8   September        75             70\n",
        "9     October        63             69\n",
        "10   November        52             63\n",
        "11   December        45             57"
       ]
      }
     ],
     "prompt_number": 4
    },
    {
     "cell_type": "code",
     "collapsed": false,
     "input": [],
     "language": "python",
     "metadata": {},
     "outputs": []
    },
    {
     "cell_type": "markdown",
     "metadata": {},
     "source": [
      "## Head and Tail: Getting a Glimpse of Your Data\n",
      "\n",
      "When you are dealing with especially large datasets, sometimes it is hard to gain perspective of your dataset. Datasets can range from two rows to two million, and it is usually not especially illuminating to look at all two million rows at once. \n",
      "\n",
      "One way to deal with this problem is to use head, and tail. Head and tail is actually what it is in bash. Head allows you to see the first few rows, and tail displays the last rows.\n",
      "\n"
     ]
    },
    {
     "cell_type": "code",
     "collapsed": false,
     "input": [],
     "language": "python",
     "metadata": {},
     "outputs": []
    },
    {
     "cell_type": "code",
     "collapsed": false,
     "input": [
      "# First 5 rows\n",
      "avg_weather.head()"
     ],
     "language": "python",
     "metadata": {},
     "outputs": [
      {
       "html": [
        "<div style=\"max-height:1000px;max-width:1500px;overflow:auto;\">\n",
        "<table border=\"1\" class=\"dataframe\">\n",
        "  <thead>\n",
        "    <tr style=\"text-align: right;\">\n",
        "      <th></th>\n",
        "      <th>Month</th>\n",
        "      <th>Portland</th>\n",
        "      <th>San Francisco</th>\n",
        "    </tr>\n",
        "  </thead>\n",
        "  <tbody>\n",
        "    <tr>\n",
        "      <th>0</th>\n",
        "      <td>  January</td>\n",
        "      <td> 47</td>\n",
        "      <td> 57</td>\n",
        "    </tr>\n",
        "    <tr>\n",
        "      <th>1</th>\n",
        "      <td> February</td>\n",
        "      <td> 51</td>\n",
        "      <td> 60</td>\n",
        "    </tr>\n",
        "    <tr>\n",
        "      <th>2</th>\n",
        "      <td>    March</td>\n",
        "      <td> 57</td>\n",
        "      <td> 62</td>\n",
        "    </tr>\n",
        "    <tr>\n",
        "      <th>3</th>\n",
        "      <td>    April</td>\n",
        "      <td> 61</td>\n",
        "      <td> 63</td>\n",
        "    </tr>\n",
        "    <tr>\n",
        "      <th>4</th>\n",
        "      <td>      May</td>\n",
        "      <td> 68</td>\n",
        "      <td> 64</td>\n",
        "    </tr>\n",
        "  </tbody>\n",
        "</table>\n",
        "</div>"
       ],
       "metadata": {},
       "output_type": "pyout",
       "prompt_number": 5,
       "text": [
        "      Month  Portland  San Francisco\n",
        "0   January        47             57\n",
        "1  February        51             60\n",
        "2     March        57             62\n",
        "3     April        61             63\n",
        "4       May        68             64"
       ]
      }
     ],
     "prompt_number": 5
    },
    {
     "cell_type": "code",
     "collapsed": false,
     "input": [],
     "language": "python",
     "metadata": {},
     "outputs": []
    },
    {
     "cell_type": "code",
     "collapsed": false,
     "input": [
      "# Last 5 rows\n",
      "avg_weather.tail()"
     ],
     "language": "python",
     "metadata": {},
     "outputs": []
    },
    {
     "cell_type": "code",
     "collapsed": false,
     "input": [],
     "language": "python",
     "metadata": {},
     "outputs": []
    },
    {
     "cell_type": "markdown",
     "metadata": {},
     "source": [
      "## You can also put an argument into the head and tail function if you wish to see a specific number of rows. Displaying the first 10 values in your dataset"
     ]
    },
    {
     "cell_type": "code",
     "collapsed": false,
     "input": [],
     "language": "python",
     "metadata": {},
     "outputs": []
    },
    {
     "cell_type": "code",
     "collapsed": false,
     "input": [
      "avg_weather.head(10)"
     ],
     "language": "python",
     "metadata": {},
     "outputs": []
    },
    {
     "cell_type": "code",
     "collapsed": false,
     "input": [],
     "language": "python",
     "metadata": {},
     "outputs": []
    },
    {
     "cell_type": "markdown",
     "metadata": {},
     "source": [
      "## Describe: EDA\n",
      "\n",
      "An EDA is an exploratory data analysis. This means that you are performing summarizing the main characteristics of your dataset. An exploratory data analysis often helps you answer the basic questions of the dataset. For example is you are dealing with integers an EDA helps you answer questions such as what is the maximum value, what is the minimum, and what is the average. An exploratoy analysis sets the stage for asking more questions of your dataset."
     ]
    },
    {
     "cell_type": "code",
     "collapsed": false,
     "input": [],
     "language": "python",
     "metadata": {},
     "outputs": []
    },
    {
     "cell_type": "code",
     "collapsed": false,
     "input": [
      "avg_weather.describe()"
     ],
     "language": "python",
     "metadata": {},
     "outputs": [
      {
       "html": [
        "<div style=\"max-height:1000px;max-width:1500px;overflow:auto;\">\n",
        "<table border=\"1\" class=\"dataframe\">\n",
        "  <thead>\n",
        "    <tr style=\"text-align: right;\">\n",
        "      <th></th>\n",
        "      <th>Portland</th>\n",
        "      <th>San Francisco</th>\n",
        "    </tr>\n",
        "  </thead>\n",
        "  <tbody>\n",
        "    <tr>\n",
        "      <th>count</th>\n",
        "      <td> 12.00000</td>\n",
        "      <td> 12.000000</td>\n",
        "    </tr>\n",
        "    <tr>\n",
        "      <th>mean</th>\n",
        "      <td> 62.75000</td>\n",
        "      <td> 63.833333</td>\n",
        "    </tr>\n",
        "    <tr>\n",
        "      <th>std</th>\n",
        "      <td> 12.67155</td>\n",
        "      <td>  4.365845</td>\n",
        "    </tr>\n",
        "    <tr>\n",
        "      <th>min</th>\n",
        "      <td> 45.00000</td>\n",
        "      <td> 57.000000</td>\n",
        "    </tr>\n",
        "    <tr>\n",
        "      <th>25%</th>\n",
        "      <td> 51.75000</td>\n",
        "      <td> 61.500000</td>\n",
        "    </tr>\n",
        "    <tr>\n",
        "      <th>50%</th>\n",
        "      <td> 62.00000</td>\n",
        "      <td> 63.500000</td>\n",
        "    </tr>\n",
        "    <tr>\n",
        "      <th>75%</th>\n",
        "      <td> 73.50000</td>\n",
        "      <td> 67.250000</td>\n",
        "    </tr>\n",
        "    <tr>\n",
        "      <th>max</th>\n",
        "      <td> 81.00000</td>\n",
        "      <td> 70.000000</td>\n",
        "    </tr>\n",
        "  </tbody>\n",
        "</table>\n",
        "</div>"
       ],
       "metadata": {},
       "output_type": "pyout",
       "prompt_number": 6,
       "text": [
        "       Portland  San Francisco\n",
        "count  12.00000      12.000000\n",
        "mean   62.75000      63.833333\n",
        "std    12.67155       4.365845\n",
        "min    45.00000      57.000000\n",
        "25%    51.75000      61.500000\n",
        "50%    62.00000      63.500000\n",
        "75%    73.50000      67.250000\n",
        "max    81.00000      70.000000"
       ]
      }
     ],
     "prompt_number": 6
    },
    {
     "cell_type": "code",
     "collapsed": false,
     "input": [],
     "language": "python",
     "metadata": {},
     "outputs": []
    },
    {
     "cell_type": "markdown",
     "metadata": {},
     "source": [
      "## Plot: Visualizations\n",
      "\n",
      "At this point in time matplotlib is the most widely used visualization package used in Python. Matplotlib integrates itself with Pandas using minimum code. We are going to use a simple example to demonstrate how to create a line graph comparing the average temperature of San Francisco and Portland. Matplotlib is flexible and there ways to customize color, axes, and Later on in the course we will use other visualization packages such as Bokeh, and Seaborn."
     ]
    },
    {
     "cell_type": "code",
     "collapsed": false,
     "input": [],
     "language": "python",
     "metadata": {},
     "outputs": []
    },
    {
     "cell_type": "code",
     "collapsed": false,
     "input": [
      "## Use Visualization to compare temperature of Portland and San Francisco\n",
      "avg_weather.plot()\n",
      "axis = plt.gca()\n",
      "axis.set_title('Average Temperature in Portland and San Fransico')\n",
      "axis.set_xlabel('Month')\n",
      "axis.set_ylabel('Termperature')\n",
      "plt.show()"
     ],
     "language": "python",
     "metadata": {},
     "outputs": [
      {
       "metadata": {},
       "output_type": "display_data",
       "png": "[encoded data removed]",
       "text": [
        "<matplotlib.figure.Figure at 0x1093f29d0>"
       ]
      }
     ],
     "prompt_number": 7
    },
    {
     "cell_type": "code",
     "collapsed": false,
     "input": [],
     "language": "python",
     "metadata": {},
     "outputs": []
    }
   ],
   "metadata": {}
  }
 ]
}