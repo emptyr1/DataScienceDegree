{
 "metadata": {
  "name": "",
  "signature": "sha256:1815d7f255b4a0330415f973c7910c7d31aed00e368cab92ba7c302aa02a0b29"
 },
 "nbformat": 3,
 "nbformat_minor": 0,
 "worksheets": [
  {
   "cells": [
    {
     "cell_type": "code",
     "collapsed": false,
     "input": [
      "import json\n",
      "import requests\n",
      "\n",
      "#API Key: 7bbbf6c447cab344d807e103a124560f\n",
      "#Secret: is 4875ffcf9d59a70499f6432fbd510000\n",
      "\n",
      "def api_get_request(url):\n",
      "    data = requests.get(url).text\n",
      "    data = json.loads(data) #python dictionary\n",
      "    \n",
      "    print data['topartists']['artist'][0]['name']\n",
      "    \n",
      "    \n",
      "if __name__ == '__main__':\n",
      "    api_get_request('http://ws.audioscrobbler.com/2.0/?method=geo.gettopartists&country=spain&api_key=7bbbf6c447cab344d807e103a124560f&format=json');\n",
      "    "
     ],
     "language": "python",
     "metadata": {},
     "outputs": [
      {
       "output_type": "stream",
       "stream": "stdout",
       "text": [
        "Foo Fighters\n"
       ]
      }
     ],
     "prompt_number": 10
    },
    {
     "cell_type": "code",
     "collapsed": false,
     "input": [],
     "language": "python",
     "metadata": {},
     "outputs": []
    }
   ],
   "metadata": {}
  }
 ]
}